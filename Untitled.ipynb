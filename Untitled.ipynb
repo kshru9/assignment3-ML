{
 "cells": [
  {
   "cell_type": "code",
   "execution_count": null,
   "id": "38a24945",
   "metadata": {},
   "outputs": [],
   "source": []
  },
  {
   "cell_type": "code",
   "execution_count": 1,
   "id": "00d2b11e",
   "metadata": {},
   "outputs": [],
   "source": [
    "import pandas as pd\n",
    "import numpy as np\n",
    "X = pd.DataFrame(np.random.randn(30, 2))\n",
    "y = pd.Series(np.random.randint(0,2,size=30))"
   ]
  },
  {
   "cell_type": "code",
   "execution_count": 2,
   "id": "3a045792",
   "metadata": {},
   "outputs": [],
   "source": [
    "def onehotencoder(y):\n",
    "    num_of_out_classes = len(y.unique())\n",
    "\n",
    "    onehot = []\n",
    "    for i in range(30):\n",
    "        pos = y[i]\n",
    "        temp = [-1]*num_of_out_classes\n",
    "        temp[pos] = 1\n",
    "        onehot.append(temp)\n",
    "\n",
    "    onehot = np.array(onehot)\n",
    "    return onehot"
   ]
  },
  {
   "cell_type": "code",
   "execution_count": 3,
   "id": "c88561cb",
   "metadata": {},
   "outputs": [
    {
     "name": "stdout",
     "output_type": "stream",
     "text": [
      "    0  1\n",
      "0   1 -1\n",
      "1   1 -1\n",
      "2  -1  1\n",
      "3  -1  1\n",
      "4  -1  1\n",
      "5  -1  1\n",
      "6  -1  1\n",
      "7   1 -1\n",
      "8  -1  1\n",
      "9   1 -1\n",
      "10 -1  1\n",
      "11  1 -1\n",
      "12  1 -1\n",
      "13  1 -1\n",
      "14  1 -1\n",
      "15 -1  1\n",
      "16  1 -1\n",
      "17 -1  1\n",
      "18 -1  1\n",
      "19 -1  1\n",
      "20  1 -1\n",
      "21 -1  1\n",
      "22  1 -1\n",
      "23  1 -1\n",
      "24  1 -1\n",
      "25 -1  1\n",
      "26  1 -1\n",
      "27 -1  1\n",
      "28 -1  1\n",
      "29  1 -1\n",
      "0    -1\n",
      "1    -1\n",
      "2     1\n",
      "3     1\n",
      "4     1\n",
      "5     1\n",
      "6     1\n",
      "7    -1\n",
      "8     1\n",
      "9    -1\n",
      "10    1\n",
      "11   -1\n",
      "12   -1\n",
      "13   -1\n",
      "14   -1\n",
      "15    1\n",
      "16   -1\n",
      "17    1\n",
      "18    1\n",
      "19    1\n",
      "20   -1\n",
      "21    1\n",
      "22   -1\n",
      "23   -1\n",
      "24   -1\n",
      "25    1\n",
      "26   -1\n",
      "27    1\n",
      "28    1\n",
      "29   -1\n",
      "Name: 1, dtype: int32\n"
     ]
    }
   ],
   "source": [
    "onehot = onehotencoder(y)\n",
    "onehot = pd.DataFrame(onehot)\n",
    "print(onehot)\n",
    "print(onehot[1])"
   ]
  },
  {
   "cell_type": "code",
   "execution_count": null,
   "id": "ded05337",
   "metadata": {},
   "outputs": [],
   "source": [
    "def softmax(y_linear):\n",
    "    exp = np.exp(y_linear).reshape(-1,1)\n",
    "    print(\"exp:\" , exp)\n",
    "    norms = np.sum(exp).reshape(-1,1)\n",
    "    return exp / norms"
   ]
  },
  {
   "cell_type": "code",
   "execution_count": null,
   "id": "8b7397e5",
   "metadata": {},
   "outputs": [],
   "source": [
    "def hypothesis_multiclass(X,theta):\n",
    "    z = np.dot(theta, X.T) + 0.0001\n",
    "    print(\"z:\" , z)\n",
    "    sm = self.softmax(z)\n",
    "    return sm"
   ]
  },
  {
   "cell_type": "code",
   "execution_count": null,
   "id": "a8641b5b",
   "metadata": {},
   "outputs": [],
   "source": [
    "h = hypothesis_multiclass(X,thetas)"
   ]
  },
  {
   "cell_type": "code",
   "execution_count": 6,
   "id": "808ecfd7",
   "metadata": {},
   "outputs": [
    {
     "name": "stdout",
     "output_type": "stream",
     "text": [
      "-5.79500326704727\n"
     ]
    }
   ],
   "source": [
    "temp = onehot.iloc[:,1].to_numpy()\n",
    "print(np.sum( (temp * X.iloc[:,1] )))"
   ]
  }
 ],
 "metadata": {
  "kernelspec": {
   "display_name": "Python 3",
   "language": "python",
   "name": "python3"
  },
  "language_info": {
   "codemirror_mode": {
    "name": "ipython",
    "version": 3
   },
   "file_extension": ".py",
   "mimetype": "text/x-python",
   "name": "python",
   "nbconvert_exporter": "python",
   "pygments_lexer": "ipython3",
   "version": "3.8.2"
  }
 },
 "nbformat": 4,
 "nbformat_minor": 5
}
