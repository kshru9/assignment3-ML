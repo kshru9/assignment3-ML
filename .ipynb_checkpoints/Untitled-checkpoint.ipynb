{
 "cells": [
  {
   "cell_type": "code",
   "execution_count": null,
   "id": "dac38f41",
   "metadata": {},
   "outputs": [],
   "source": []
  },
  {
   "cell_type": "code",
   "execution_count": 1,
   "id": "195b4d5c",
   "metadata": {},
   "outputs": [],
   "source": [
    "import pandas as pd\n",
    "import numpy as np\n",
    "X = pd.DataFrame(np.random.randn(30, 2))\n",
    "y = pd.Series(np.random.randint(0,2,size=30))"
   ]
  },
  {
   "cell_type": "code",
   "execution_count": 2,
   "id": "b0742f63",
   "metadata": {},
   "outputs": [],
   "source": [
    "def onehotencoder(y):\n",
    "    num_of_out_classes = len(y.unique())\n",
    "\n",
    "    onehot = []\n",
    "    for i in range(30):\n",
    "        pos = y[i]\n",
    "        temp = [-1]*num_of_out_classes\n",
    "        temp[pos] = 1\n",
    "        onehot.append(temp)\n",
    "\n",
    "    onehot = np.array(onehot)\n",
    "    return onehot"
   ]
  },
  {
   "cell_type": "code",
   "execution_count": 3,
   "id": "7f35004b",
   "metadata": {},
   "outputs": [
    {
     "name": "stdout",
     "output_type": "stream",
     "text": [
      "    0  1\n",
      "0   1 -1\n",
      "1   1 -1\n",
      "2  -1  1\n",
      "3  -1  1\n",
      "4  -1  1\n",
      "5  -1  1\n",
      "6  -1  1\n",
      "7   1 -1\n",
      "8  -1  1\n",
      "9   1 -1\n",
      "10 -1  1\n",
      "11  1 -1\n",
      "12  1 -1\n",
      "13  1 -1\n",
      "14  1 -1\n",
      "15 -1  1\n",
      "16  1 -1\n",
      "17 -1  1\n",
      "18 -1  1\n",
      "19 -1  1\n",
      "20  1 -1\n",
      "21 -1  1\n",
      "22  1 -1\n",
      "23  1 -1\n",
      "24  1 -1\n",
      "25 -1  1\n",
      "26  1 -1\n",
      "27 -1  1\n",
      "28 -1  1\n",
      "29  1 -1\n",
      "0    -1\n",
      "1    -1\n",
      "2     1\n",
      "3     1\n",
      "4     1\n",
      "5     1\n",
      "6     1\n",
      "7    -1\n",
      "8     1\n",
      "9    -1\n",
      "10    1\n",
      "11   -1\n",
      "12   -1\n",
      "13   -1\n",
      "14   -1\n",
      "15    1\n",
      "16   -1\n",
      "17    1\n",
      "18    1\n",
      "19    1\n",
      "20   -1\n",
      "21    1\n",
      "22   -1\n",
      "23   -1\n",
      "24   -1\n",
      "25    1\n",
      "26   -1\n",
      "27    1\n",
      "28    1\n",
      "29   -1\n",
      "Name: 1, dtype: int32\n"
     ]
    }
   ],
   "source": [
    "onehot = onehotencoder(y)\n",
    "onehot = pd.DataFrame(onehot)\n",
    "print(onehot)\n",
    "print(onehot[1])"
   ]
  },
  {
   "cell_type": "code",
   "execution_count": null,
   "id": "05fb2bb2",
   "metadata": {},
   "outputs": [],
   "source": [
    "def softmax(y_linear):\n",
    "    exp = np.exp(y_linear).reshape(-1,1)\n",
    "    print(\"exp:\" , exp)\n",
    "    norms = np.sum(exp).reshape(-1,1)\n",
    "    return exp / norms"
   ]
  },
  {
   "cell_type": "code",
   "execution_count": null,
   "id": "f2cc7da8",
   "metadata": {},
   "outputs": [],
   "source": [
    "def hypothesis_multiclass(X,theta):\n",
    "    z = np.dot(theta, X.T) + 0.0001\n",
    "    print(\"z:\" , z)\n",
    "    sm = self.softmax(z)\n",
    "    return sm"
   ]
  },
  {
   "cell_type": "code",
   "execution_count": null,
   "id": "daaa1ce2",
   "metadata": {},
   "outputs": [],
   "source": [
    "h = hypothesis_multiclass(X,thetas)"
   ]
  },
  {
   "cell_type": "code",
   "execution_count": 5,
   "id": "6f90240f",
   "metadata": {},
   "outputs": [
    {
     "ename": "NameError",
     "evalue": "name 'attr' is not defined",
     "output_type": "error",
     "traceback": [
      "\u001b[1;31m---------------------------------------------------------------------------\u001b[0m",
      "\u001b[1;31mNameError\u001b[0m                                 Traceback (most recent call last)",
      "\u001b[1;32m<ipython-input-5-28a9bd3e4c0d>\u001b[0m in \u001b[0;36m<module>\u001b[1;34m\u001b[0m\n\u001b[1;32m----> 1\u001b[1;33m \u001b[0mtemp\u001b[0m \u001b[1;33m=\u001b[0m \u001b[0monehot\u001b[0m\u001b[1;33m.\u001b[0m\u001b[0miloc\u001b[0m\u001b[1;33m[\u001b[0m\u001b[1;33m:\u001b[0m\u001b[1;33m,\u001b[0m\u001b[0mattr\u001b[0m\u001b[1;33m]\u001b[0m\u001b[1;33m.\u001b[0m\u001b[0mto_numpy\u001b[0m\u001b[1;33m(\u001b[0m\u001b[1;33m)\u001b[0m\u001b[1;33m\u001b[0m\u001b[1;33m\u001b[0m\u001b[0m\n\u001b[0m\u001b[0;32m      2\u001b[0m \u001b[0mprint\u001b[0m\u001b[1;33m(\u001b[0m\u001b[0mnp\u001b[0m\u001b[1;33m.\u001b[0m\u001b[0msum\u001b[0m\u001b[1;33m(\u001b[0m \u001b[1;33m(\u001b[0m\u001b[0mtemp\u001b[0m \u001b[1;33m*\u001b[0m \u001b[0mX\u001b[0m\u001b[1;33m.\u001b[0m\u001b[0miloc\u001b[0m\u001b[1;33m[\u001b[0m\u001b[1;33m:\u001b[0m\u001b[1;33m,\u001b[0m\u001b[1;36m1\u001b[0m\u001b[1;33m]\u001b[0m \u001b[1;33m)\u001b[0m\u001b[1;33m)\u001b[0m\u001b[1;33m)\u001b[0m\u001b[1;33m\u001b[0m\u001b[1;33m\u001b[0m\u001b[0m\n",
      "\u001b[1;31mNameError\u001b[0m: name 'attr' is not defined"
     ]
    }
   ],
   "source": [
    "temp = onehot.iloc[:,1].to_numpy()\n",
    "print(np.sum( (temp * X.iloc[:,1] )))"
   ]
  }
 ],
 "metadata": {
  "kernelspec": {
   "display_name": "Python 3",
   "language": "python",
   "name": "python3"
  },
  "language_info": {
   "codemirror_mode": {
    "name": "ipython",
    "version": 3
   },
   "file_extension": ".py",
   "mimetype": "text/x-python",
   "name": "python",
   "nbconvert_exporter": "python",
   "pygments_lexer": "ipython3",
   "version": "3.8.2"
  }
 },
 "nbformat": 4,
 "nbformat_minor": 5
}
